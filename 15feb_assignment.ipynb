{
 "cells": [
  {
   "cell_type": "markdown",
   "id": "081de6ff-0118-4f99-9a00-720ccb203da1",
   "metadata": {},
   "source": [
    "**Q1.** What is multiprocessing in python? Why is it useful?\n",
    "\n",
    "**Answer**: Multiprocessing in Python is a way to achieve parallelism by running multiple processes concurrently, each running on a separate CPU core. In simple terms, it means running multiple instances of a program at the same time, with each instance executing a different task.\n",
    "Multiprocessing is useful in Python for several reasons, including:\n",
    "\n",
    "**1.Improved performance:** Multiprocessing can improve the performance of Python programs by distributing the workload across multiple CPU cores, thereby reducing the execution time.\n",
    "\n",
    "**2.Parallelism:** Multiprocessing allows Python programs to perform multiple tasks in parallel, which can be useful in applications such as image processing, data analysis, and scientific computing.\n",
    "\n",
    "**3.Fault tolerance:** Multiprocessing can make Python programs more resilient to failures by isolating individual processes, so that if one process crashes, it does not affect the others.\n",
    "\n",
    "**4.Improved responsiveness:** Multiprocessing can improve the responsiveness of Python programs by allowing them to run background tasks in separate processes, while the main process remains free to handle user input and other tasks.----"
   ]
  },
  {
   "cell_type": "markdown",
   "id": "2f3c12db-2a7f-4e32-b624-1f74493f1afc",
   "metadata": {},
   "source": [
    "**Q2**What are the differences between multiprocessing and multithreading?\n",
    "\n",
    "**Answer**: There are some difference betwwen multiprocessing and multithreading:\n",
    "\n",
    "**(1) Execution model**: In multiprocessing, multiple processes are created, and each process runs in its own address space. In contrast, multithreading involves creating multiple threads within a single process, and all threads share the same memory space.\n",
    "\n",
    "**(2) Communication:** Communication between processes in multiprocessing is typically done through inter-process communication (IPC) mechanisms such as pipes, sockets, and shared memory. In multithreading, communication between threads can be done through shared memory, but there are also synchronization primitives such as locks, semaphores, and condition variables.\n",
    "\n",
    "**(3) Overhead:** Multiprocessing can have higher overhead compared to multithreading, as creating and managing multiple processes involves more system resources. Multithreading has lower overhead as creating and managing threads is a lightweight operation.\n",
    "\n",
    "**(4) Scalability:** Multiprocessing can scale well on systems with multiple CPUs or cores, as each process can run on a separate CPU or core. Multithreading can also scale well, but there can be issues with contention and synchronization when multiple threads access shared resources.\n",
    "\n",
    "**(5) Fault tolerance:** Multiprocessing can be more fault-tolerant than multithreading, as a crash in one process will not affect the others. In multithreading, a crash in one thread can potentially bring down the entire process."
   ]
  },
  {
   "cell_type": "markdown",
   "id": "a3048ace-9c66-4a8a-9f76-07a923c7db6e",
   "metadata": {},
   "source": [
    "**Q3** Write a python code to create a process using the multiprocessing module.\n",
    "\n",
    "**Answer**:"
   ]
  },
  {
   "cell_type": "code",
   "execution_count": 3,
   "id": "18e67667-3aaf-493e-bd43-f3ceb141751a",
   "metadata": {},
   "outputs": [
    {
     "name": "stdout",
     "output_type": "stream",
     "text": [
      "[1, 64, 125, 512, 729]\n"
     ]
    }
   ],
   "source": [
    "import multiprocessing \n",
    "def cube(n):\n",
    "    return n**3\n",
    "if __name__==\"__main__\":\n",
    "    with multiprocessing.Pool(processes=5) as pool :\n",
    "        out =pool.map(cube , [1,4,5,8,9])\n",
    "        print(out)\n",
    "    "
   ]
  },
  {
   "cell_type": "markdown",
   "id": "566ff8d2-8d29-4139-8c43-eb0d6c6629e8",
   "metadata": {},
   "source": [
    "**Q4.** What is a multiprocessing pool in python? Why is it used?\n",
    "\n",
    "**Answer**: In Python's multiprocessing module, a pool is a convenient way to create a group of worker processes that can execute tasks concurrently. A pool is created with a fixed number of worker processes, which can then be used to execute multiple tasks in parallel.\n",
    "The multiprocessing.Pool class provides an easy way to create a pool of worker processes. The pool can be initialized with a specific number of worker processes, and then tasks can be submitted to the pool using the apply() or map() methods.\n",
    "The apply() method is used to submit a single task to the pool, while the map() method can be used to submit multiple tasks at once. The map() method applies a function to a sequence of input values, distributing the work across the worker processes in the pool.\n",
    "The pool takes care of creating and managing the worker processes, as well as handling the communication between the main process and the worker processes. Once a task is completed, the result is returned to the main process.\n",
    "\n",
    "Using a pool can provide several benefits, such as:\n",
    "\n",
    "**1.Improved performance:** By distributing the workload across multiple processes, the pool can improve the performance of the program.\n",
    "\n",
    "**2.Simplified code:** The pool provides a simple and intuitive interface for executing tasks concurrently, which can make the code easier to read and maintain.\n",
    "\n",
    "**3.Resource management:** The pool manages the creation and management of worker processes, so you don't have to worry about managing system resources yourself.\n",
    "\n",
    "**4.Scalability:** The pool can scale to handle large numbers of tasks, as long as there are enough resources available to support the additional worker processes."
   ]
  },
  {
   "cell_type": "markdown",
   "id": "44ff699e-4b58-4b47-a961-fc03b9b1b3ac",
   "metadata": {},
   "source": [
    "**Q5.** How can we create a pool of worker processes in python using the multiprocessing module?\n",
    "\n",
    "**Answer:** The pool can be initialized with a specific number of worker processes, and then tasks can be submitted to the pool using the apply() or map() methods.\n",
    "The apply() method is used to submit a single task to the pool, while the map() method can be used to submit multiple tasks at once. The map() method applies a function to a sequence of input values, distributing the work across the worker processes in the pool.Example:"
   ]
  },
  {
   "cell_type": "code",
   "execution_count": 6,
   "id": "dc57ad25-7d78-4942-8f19-a677f32feec9",
   "metadata": {},
   "outputs": [
    {
     "name": "stdout",
     "output_type": "stream",
     "text": [
      "[1, 64, 125, 512, 729]\n"
     ]
    }
   ],
   "source": [
    "\n",
    "def cube(n):\n",
    "    return n**3\n",
    "if __name__==\"__main__\":\n",
    "    with multiprocessing.Pool(processes=5) as pool :\n",
    "        out =pool.map(cube , [1,4,5,8,9])\n",
    "        print(out)\n",
    "    "
   ]
  },
  {
   "cell_type": "markdown",
   "id": "a23b12de-9a41-4127-9223-229167105451",
   "metadata": {},
   "source": [
    "**Q6**.Write a python program to create 4 processes, each process should print a different number using the\n",
    "multiprocessing module in python.\n",
    "\n",
    "**Answer**:\n"
   ]
  },
  {
   "cell_type": "code",
   "execution_count": 5,
   "id": "0516ee08-bd38-42cb-add6-7eb818e27569",
   "metadata": {},
   "outputs": [
    {
     "name": "stdout",
     "output_type": "stream",
     "text": [
      "Process Process-19 prints 0\n",
      "Process Process-20 prints 1\n",
      "Process Process-21 prints 2\n",
      "Process Process-22 prints 3\n"
     ]
    }
   ],
   "source": [
    "import multiprocessing\n",
    "\n",
    "def print_number(num):\n",
    "    print(\"Process {} prints {}\".format(multiprocessing.current_process().name, num))\n",
    "\n",
    "if __name__ == '__main__':\n",
    "    processes = []\n",
    "\n",
    "    for i in range(4):\n",
    "        p = multiprocessing.Process(target=print_number, args=(i,))\n",
    "        processes.append(p)\n",
    "        p.start()\n",
    "\n",
    "    for p in processes:\n",
    "        p.join()\n"
   ]
  },
  {
   "cell_type": "code",
   "execution_count": null,
   "id": "40793535-9435-42c5-9b04-6a6278cb83c3",
   "metadata": {},
   "outputs": [],
   "source": []
  }
 ],
 "metadata": {
  "kernelspec": {
   "display_name": "Python 3 (ipykernel)",
   "language": "python",
   "name": "python3"
  },
  "language_info": {
   "codemirror_mode": {
    "name": "ipython",
    "version": 3
   },
   "file_extension": ".py",
   "mimetype": "text/x-python",
   "name": "python",
   "nbconvert_exporter": "python",
   "pygments_lexer": "ipython3",
   "version": "3.10.8"
  }
 },
 "nbformat": 4,
 "nbformat_minor": 5
}
